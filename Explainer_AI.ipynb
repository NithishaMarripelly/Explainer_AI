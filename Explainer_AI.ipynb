{
 "cells": [
  {
   "cell_type": "markdown",
   "id": "a30f634e",
   "metadata": {},
   "source": [
    "Importing Necessary Libraries"
   ]
  },
  {
   "cell_type": "code",
   "execution_count": 1,
   "id": "e4ddbe7c",
   "metadata": {},
   "outputs": [
    {
     "name": "stderr",
     "output_type": "stream",
     "text": [
      "C:\\Users\\nithi\\AppData\\Roaming\\Python\\Python312\\site-packages\\tqdm\\auto.py:21: TqdmWarning: IProgress not found. Please update jupyter and ipywidgets. See https://ipywidgets.readthedocs.io/en/stable/user_install.html\n",
      "  from .autonotebook import tqdm as notebook_tqdm\n"
     ]
    }
   ],
   "source": [
    "import re\n",
    "from pathlib import Path\n",
    "import pdfplumber\n",
    "from langchain.text_splitter import RecursiveCharacterTextSplitter\n",
    "from sentence_transformers import SentenceTransformer\n",
    "import numpy as np\n",
    "import faiss"
   ]
  },
  {
   "cell_type": "markdown",
   "id": "06241fdb",
   "metadata": {},
   "source": [
    "Cleaning data to remove headers, footers and noise"
   ]
  },
  {
   "cell_type": "code",
   "execution_count": 2,
   "id": "0f06192d",
   "metadata": {},
   "outputs": [],
   "source": [
    "\n",
    "def clean_policy_text(text: str) -> str:\n",
    "    \"\"\"\n",
    "    Clean SNAP & Medicaid policy documents by removing headers, footers, and noise.\n",
    "    Works for both CRS SNAP report and CBPP Medicaid report.\n",
    "    \"\"\"\n",
    "    # Remove common headers/footers\n",
    "    text = re.sub(r\"Policy Basics\\s*–.*?(SNAP|Medicaid)\", \"\", text, flags=re.IGNORECASE)\n",
    "    text = re.sub(r\"Supplemental Nutrition Assistance Program.*?(Eligibility and Benefits)?\", \"\", text, flags=re.IGNORECASE)\n",
    "    text = re.sub(r\"Congressional Research Service\", \"\", text, flags=re.IGNORECASE)\n",
    "    text = re.sub(r\"Center on Budget and Policy Priorities\\s*\\|\\s*cbpp\\.org\", \"\", text, flags=re.IGNORECASE)\n",
    "    \n",
    "    # Remove CRS-style page markers like 'CRS-22'\n",
    "    text = re.sub(r\"CRS-\\d+\", \"\", text)\n",
    "    \n",
    "    # Remove isolated page numbers\n",
    "    text = re.sub(r\"^\\s*\\d+\\s*$\", \"\", text, flags=re.MULTILINE)\n",
    "    \n",
    "    # Normalize spacing\n",
    "    text = re.sub(r\"\\n+\", \"\\n\", text)        # collapse multiple newlines\n",
    "    text = re.sub(r\"\\s{2,}\", \" \", text)      # collapse multiple spaces\n",
    "    \n",
    "    return text.strip()\n"
   ]
  },
  {
   "cell_type": "markdown",
   "id": "c6cc2c19",
   "metadata": {},
   "source": [
    "Extracting text from clean text"
   ]
  },
  {
   "cell_type": "code",
   "execution_count": 3,
   "id": "0623fcc9",
   "metadata": {},
   "outputs": [],
   "source": [
    "def extract_clean_pdf(pdf_path, cleaner):\n",
    "    pages = []\n",
    "    with pdfplumber.open(pdf_path) as pdf:\n",
    "        for page in pdf.pages:\n",
    "            text = page.extract_text()\n",
    "            if text:\n",
    "                cleaned = cleaner(text)\n",
    "                pages.append(cleaned)\n",
    "    return \"\\n\".join(pages)"
   ]
  },
  {
   "cell_type": "markdown",
   "id": "bbad7ea5",
   "metadata": {},
   "source": [
    "Importing SNAP and Medicaid Policy documents"
   ]
  },
  {
   "cell_type": "code",
   "execution_count": 4,
   "id": "663062f2",
   "metadata": {},
   "outputs": [],
   "source": [
    "medicaid_path = \"data/Medicaid.pdf\"\n",
    "snap_path = \"data/SNAP.pdf\""
   ]
  },
  {
   "cell_type": "markdown",
   "id": "de5a2f20",
   "metadata": {},
   "source": [
    "Calling Extract and data cleaning function"
   ]
  },
  {
   "cell_type": "code",
   "execution_count": 5,
   "id": "8219d601",
   "metadata": {},
   "outputs": [
    {
     "name": "stdout",
     "output_type": "stream",
     "text": [
      "Medicaid text length: 17596\n",
      "SNAP text length: 80366\n"
     ]
    }
   ],
   "source": [
    "# Extract + clean\n",
    "medicaid_text = extract_clean_pdf(medicaid_path, clean_policy_text)\n",
    "snap_text = extract_clean_pdf(snap_path, clean_policy_text)\n",
    "\n",
    "print(\"Medicaid text length:\", len(medicaid_text))\n",
    "print(\"SNAP text length:\", len(snap_text))"
   ]
  },
  {
   "cell_type": "markdown",
   "id": "5bac5101",
   "metadata": {},
   "source": [
    "Dividing Data into chunks"
   ]
  },
  {
   "cell_type": "code",
   "execution_count": 6,
   "id": "2c14a408",
   "metadata": {},
   "outputs": [
    {
     "name": "stdout",
     "output_type": "stream",
     "text": [
      "Medicaid chunks: 40\n",
      "SNAP chunks: 179\n",
      "\n",
      "Sample Medicaid chunk:\n",
      " Introduction to Medicaid\n",
      "Created in 1965, Medicaid provides health coverage to low-income families and\n",
      "individuals, including children, parents, pregnant people seniors, and people with\n",
      "disabilities. It is funded jointly by the federal government and the states. Within\n",
      "federal guidelines, each state\n",
      "\n",
      "Sample SNAP chunk:\n",
      " (SNAP): A Primer on Eligibility and Benefits\n",
      "Updated November 13, 2024\n",
      "https://crsreports.congress.gov\n",
      "R42505\n",
      "SUMMARY\n",
      "R42505\n",
      "November 13, 2024\n",
      "(SNAP): A Primer on Eligibility and Benefits\n",
      "Randy Alison Aussenberg\n",
      "The (SNAP), formerly called the Food Stamp Specialist in Nutrition\n",
      "Program, is designed \n"
     ]
    }
   ],
   "source": [
    "#Chunking\n",
    "\n",
    "splitter = RecursiveCharacterTextSplitter(\n",
    "    chunk_size=500,    # ~500 characters per chunk\n",
    "    chunk_overlap=50,  # overlap to preserve context\n",
    "    length_function=len\n",
    ")\n",
    "\n",
    "medicaid_chunks = splitter.split_text(medicaid_text)\n",
    "snap_chunks = splitter.split_text(snap_text)\n",
    "\n",
    "print(\"Medicaid chunks:\", len(medicaid_chunks))\n",
    "print(\"SNAP chunks:\", len(snap_chunks))\n",
    "\n",
    "# Preview first chunk\n",
    "print(\"\\nSample Medicaid chunk:\\n\", medicaid_chunks[0][:300])\n",
    "print(\"\\nSample SNAP chunk:\\n\", snap_chunks[0][:300])"
   ]
  },
  {
   "cell_type": "markdown",
   "id": "35604691",
   "metadata": {},
   "source": [
    "Combining chunks from medicaid and SNAP policies, Converting chunks to embeddings and creating FAISS index"
   ]
  },
  {
   "cell_type": "code",
   "execution_count": 7,
   "id": "97bb0276",
   "metadata": {},
   "outputs": [
    {
     "name": "stderr",
     "output_type": "stream",
     "text": [
      "Batches: 100%|██████████| 7/7 [00:19<00:00,  2.79s/it]"
     ]
    },
    {
     "name": "stdout",
     "output_type": "stream",
     "text": [
      "Embeddings shape: (219, 384)\n",
      "FAISS index size: 219\n"
     ]
    },
    {
     "name": "stderr",
     "output_type": "stream",
     "text": [
      "\n"
     ]
    }
   ],
   "source": [
    "# 2) Combine your cleaned chunks from Step 2\n",
    "#    (Assumes you already have: medicaid_chunks, snap_chunks)\n",
    "corpus = medicaid_chunks + snap_chunks\n",
    "\n",
    "# 3) Keep an ID → text mapping so we can show the chunk later\n",
    "id2text = {i: chunk for i, chunk in enumerate(corpus)}\n",
    "\n",
    "# 4) Load the embedding model (MiniLM). Fast and accurate on CPU.\n",
    "model_name = \"all-MiniLM-L6-v2\"\n",
    "embedder = SentenceTransformer(model_name)\n",
    "\n",
    "# 5) Encode all chunks into embeddings (shape: [num_chunks, 384])\n",
    "#    show_progress_bar=True gives a nice progress indicator.\n",
    "embeddings = embedder.encode(\n",
    "    corpus,\n",
    "    convert_to_numpy=True,\n",
    "    show_progress_bar=True\n",
    ")\n",
    "\n",
    "# 6) Normalize embeddings so dot product = cosine similarity\n",
    "#    (FAISS IndexFlatIP does inner product; with unit vectors it equals cosine)\n",
    "embeddings = embeddings / np.linalg.norm(embeddings, axis=1, keepdims=True)\n",
    "\n",
    "# 7) Build the FAISS index for Inner Product (cosine once normalized)\n",
    "dim = embeddings.shape[1]                 # 384 for MiniLM\n",
    "index = faiss.IndexFlatIP(dim)            # IP = inner product\n",
    "index.add(embeddings)                     # add all vectors to the index\n",
    "\n",
    "print(\"Embeddings shape:\", embeddings.shape)  # e.g., (N, 384)\n",
    "print(\"FAISS index size:\", index.ntotal)      # should be N\n"
   ]
  },
  {
   "cell_type": "markdown",
   "id": "0f16b6c4",
   "metadata": {},
   "source": [
    "Retrieving top k relevant chunks"
   ]
  },
  {
   "cell_type": "code",
   "execution_count": 8,
   "id": "b3763595",
   "metadata": {},
   "outputs": [],
   "source": [
    "def search(query: str, k: int = 3):\n",
    "    \"\"\"Return top-k most similar chunks to the query (cosine similarity).\"\"\"\n",
    "    # a) Encode the query to the same vector space\n",
    "    q = embedder.encode([query], convert_to_numpy=True)\n",
    "    # b) Normalize so inner product = cosine similarity\n",
    "    q = q / np.linalg.norm(q, axis=1, keepdims=True)\n",
    "    # c) Search FAISS for top-k neighbors\n",
    "    scores, idxs = index.search(q, k)\n",
    "    # d) Package results as list of dicts: rank, score, text\n",
    "    results = [\n",
    "        {\"rank\": i+1, \"score\": float(scores[0][i]), \"text\": id2text[idx]}\n",
    "        for i, idx in enumerate(idxs[0])\n",
    "    ]\n",
    "    return results"
   ]
  },
  {
   "cell_type": "markdown",
   "id": "d57c7b97",
   "metadata": {},
   "source": [
    "Code to test the working of retrieval function"
   ]
  },
  {
   "cell_type": "code",
   "execution_count": 9,
   "id": "3d6f90a4",
   "metadata": {},
   "outputs": [
    {
     "name": "stdout",
     "output_type": "stream",
     "text": [
      "\n",
      "Top hits for: What is the minimum monthly SNAP benefit for one- or two-person households in FY2025?\n",
      "\n",
      "[1] score=0.911\n",
      "and others take into account the general availability of SNAP benefits in deciding what level of\n",
      "benefits to provide.\n",
      "Minimum Benefit\n",
      "Eligible one- or two-person households are guaranteed a minimum monthly benefit allotment\n",
      "equal to 8% of the maximum benefit for a one-person household. This 2008 cha...\n",
      "\n",
      "[2] score=0.811\n",
      "and the District of Columbia. This means that if the benefit calculation for a one- or two-person\n",
      "household yields a result of less than $23, that household is guaranteed to receive $23 a month. In\n",
      "FY2019, 10% of SNAP households received the minimum benefit.40\n",
      "Issuance of Benefits\n",
      "Benefit issuance i...\n",
      "\n",
      "[3] score=0.800\n",
      "and children, and shelters for the homeless.\n",
      "If a household includes an elderly or disabled member, the household is entitled to different\n",
      "SNAP deduction rules as well as some different financial eligibility rules (discussed in the next\n",
      "section). Financially eligible one- and two-person households (...\n",
      "\n",
      "Top hits for: Medicaid coverage for low-income adults\n",
      "\n",
      "[1] score=0.751\n",
      "and ‘90s, and the ACA’s expansion of Medicaid to low-income adults have all led to far lower shares of\n",
      "people without health coverage. Between the 2014 major ACA coverage expansions until 2023 (the latest\n",
      "year such data are available), Medicaid has helped reduce the number of people who are uninsure...\n",
      "\n",
      "[2] score=0.730\n",
      "over 70 million low-income\n",
      "2 in 5 children, 1 in 6 non-elderly adults, almost 1 in 6 adults 65 or\n",
      "Americans.”\n",
      "older, and 2 in 5 non-elderly adults with disabilities. Medicaid is\n",
      "extremely popular, earning a favorable view from three-fourths of the\n",
      "public.\n",
      "Over half of Medicaid spending goes to provi...\n",
      "\n",
      "[3] score=0.719\n",
      "Introduction to Medicaid\n",
      "Created in 1965, Medicaid provides health coverage to low-income families and\n",
      "individuals, including children, parents, pregnant people seniors, and people with\n",
      "disabilities. It is funded jointly by the federal government and the states. Within\n",
      "federal guidelines, each state...\n"
     ]
    }
   ],
   "source": [
    "# Quick smoke test\n",
    "queries = [\n",
    "    \"What is the minimum monthly SNAP benefit for one- or two-person households in FY2025?\",\n",
    "    \"Medicaid coverage for low-income adults\",\n",
    "]\n",
    "for q in queries:\n",
    "    print(f\"\\nTop hits for: {q}\")\n",
    "    hits = search(q, k=3)\n",
    "    for h in hits:\n",
    "        print(f\"\\n[{h['rank']}] score={h['score']:.3f}\\n{h['text'][:300]}...\")"
   ]
  },
  {
   "cell_type": "code",
   "execution_count": 10,
   "id": "8f5add18",
   "metadata": {},
   "outputs": [
    {
     "name": "stderr",
     "output_type": "stream",
     "text": [
      "Device set to use cuda:0\n"
     ]
    }
   ],
   "source": [
    "from transformers import pipeline\n",
    "\n",
    "# Load Hugging Face summarizer\n",
    "text = pipeline(\"text2text-generation\", model=\"google/flan-t5-base\", tokenizer=\"google/flan-t5-base\")\n"
   ]
  },
  {
   "cell_type": "code",
   "execution_count": 22,
   "id": "70f460c4",
   "metadata": {},
   "outputs": [
    {
     "name": "stderr",
     "output_type": "stream",
     "text": [
      "You seem to be using the pipelines sequentially on GPU. In order to maximize efficiency please use a dataset\n"
     ]
    },
    {
     "name": "stdout",
     "output_type": "stream",
     "text": [
      "19\n"
     ]
    }
   ],
   "source": [
    "def query_pipeline(query, k=3):\n",
    "    # Step 1: embed + search\n",
    "    q_emb = embedder.encode([query], convert_to_numpy=True).astype(\"float32\")\n",
    "    q_emb = q_emb / np.linalg.norm(q_emb, axis=1, keepdims=True)\n",
    "    scores, ids = index.search(q_emb, k)\n",
    "\n",
    "    # Step 2: get top chunks\n",
    "    retrieved = [id2text[i] for i in ids[0]]\n",
    "\n",
    "    # Step 3: join chunks into one context\n",
    "    combined_text = \" \".join(retrieved)\n",
    "\n",
    "    prompt=f\"Question: {query}\\nContext: {combined_text}\\nAnswer:\"\n",
    "\n",
    "    # Step 4: summarize into a concise answer\n",
    "    answer = text(prompt, max_length=300, do_sample=False)[0]['generated_text']\n",
    "    return answer\n",
    "\n",
    "# Example query\n",
    "print(query_pipeline(\"what is the  maximum age criteria to be eligible for medicaid \"))\n"
   ]
  },
  {
   "cell_type": "code",
   "execution_count": null,
   "id": "90a2c558",
   "metadata": {},
   "outputs": [],
   "source": []
  }
 ],
 "metadata": {
  "kernelspec": {
   "display_name": "Python 3",
   "language": "python",
   "name": "python3"
  },
  "language_info": {
   "codemirror_mode": {
    "name": "ipython",
    "version": 3
   },
   "file_extension": ".py",
   "mimetype": "text/x-python",
   "name": "python",
   "nbconvert_exporter": "python",
   "pygments_lexer": "ipython3",
   "version": "3.12.10"
  }
 },
 "nbformat": 4,
 "nbformat_minor": 5
}
